{
 "cells": [
  {
   "cell_type": "markdown",
   "metadata": {},
   "source": [
    "# implementation of frequentwords"
   ]
  },
  {
   "cell_type": "code",
   "execution_count": 5,
   "metadata": {},
   "outputs": [],
   "source": [
    "def frequentwords(text, k):\n",
    "    \"\"\"in: a textstring and an int k out: a dictionary with most frequent k-mer as key and number of it's occurences as value \"\"\"\n",
    "    frequent_patterns = {}\n",
    "    count=[]\n",
    "    for i in range(0,len(text)-k):\n",
    "        pattern = text[i:i+k]\n",
    "        count.insert(i, patterncount(text,pattern))\n",
    "    \n",
    "    maxcount=max(count)\n",
    "    for i in range(0,len(text)-k):\n",
    "        if count[i]==maxcount:\n",
    "            try:\n",
    "                frequent_patterns[text[i:i+k]]=maxcount\n",
    "            except:\n",
    "                pass\n",
    "    return frequent_patterns\n",
    "                "
   ]
  },
  {
   "cell_type": "code",
   "execution_count": 6,
   "metadata": {},
   "outputs": [],
   "source": [
    "def patterncount(text, pattern):\n",
    "    \"\"\"count occurences of pattern in text\"\"\"\n",
    "    counter = 0\n",
    "    length = len(text)-len(pattern)\n",
    "    for i in range(0,length+1):\n",
    "        if text[i:i+len(pattern)] == pattern:\n",
    "            counter += 1\n",
    "    return counter"
   ]
  },
  {
   "cell_type": "markdown",
   "metadata": {},
   "source": [
    "## testrun of frequentwords"
   ]
  },
  {
   "cell_type": "code",
   "execution_count": 7,
   "metadata": {},
   "outputs": [
    {
     "data": {
      "text/plain": [
       "{'gt': 2, 'tc': 2}"
      ]
     },
     "execution_count": 7,
     "metadata": {},
     "output_type": "execute_result"
    }
   ],
   "source": [
    "text=\"atgtcgaaggtcct\"\n",
    "frequentwords(text,2)"
   ]
  },
  {
   "cell_type": "markdown",
   "metadata": {},
   "source": [
    "# implementation of fastfrequentwords"
   ]
  },
  {
   "cell_type": "markdown",
   "metadata": {},
   "source": [
    "## conversion helper "
   ]
  },
  {
   "cell_type": "code",
   "execution_count": 95,
   "metadata": {},
   "outputs": [],
   "source": [
    "def pattern_to_number(pattern):\n",
    "    if pattern == \"\":\n",
    "        return 0\n",
    "    symbol = pattern[-1]\n",
    "    prefix = pattern[0:-1]\n",
    "    \n",
    "    return 4*pattern_to_number(prefix)+symbol_to_number(symbol)"
   ]
  },
  {
   "cell_type": "code",
   "execution_count": 9,
   "metadata": {},
   "outputs": [],
   "source": [
    "def symbol_to_number(symbol):\n",
    "    poss = {\"a\":0,\"c\":1,\"g\":2,\"t\":3}\n",
    "    try:\n",
    "        return poss[symbol]\n",
    "    except KeyError:\n",
    "        print(\"allowed Symbols are: a,c,t,g\")"
   ]
  },
  {
   "cell_type": "code",
   "execution_count": 10,
   "metadata": {},
   "outputs": [],
   "source": [
    "def number_to_pattern(index, k):\n",
    "    if k == 1:\n",
    "        return number_to_symbol(index)\n",
    "    prefix_index = int(index/4)\n",
    "    r = index%4\n",
    "    symbol = number_to_symbol(r)\n",
    "    prefix_pattern = number_to_pattern(prefix_index, k-1)\n",
    "    \n",
    "    return prefix_pattern+symbol"
   ]
  },
  {
   "cell_type": "code",
   "execution_count": 11,
   "metadata": {},
   "outputs": [],
   "source": [
    "def number_to_symbol(number):\n",
    "    poss = {0:\"a\",1:\"c\",2:\"g\",3:\"t\"}\n",
    "    try:\n",
    "        return poss[number]\n",
    "    except KeyError:\n",
    "        print(\"allowed Numbers are: 0,1,2,3\")"
   ]
  },
  {
   "cell_type": "markdown",
   "metadata": {},
   "source": [
    "## fastfrequentwords"
   ]
  },
  {
   "cell_type": "code",
   "execution_count": 12,
   "metadata": {},
   "outputs": [],
   "source": [
    "def fastfrequentwords(text,k):\n",
    "    frequent_patters = {}\n",
    "    frequencyarray = computing_frequencies(text,k)\n",
    "    max_count = max(frequencyarray)\n",
    "    for i in range(0,(4**k)-1):\n",
    "        if frequencyarray[i] == max_count:\n",
    "            pattern = number_to_pattern(i,k)\n",
    "            try:\n",
    "                frequent_patters[pattern]=max_count\n",
    "            except:\n",
    "                pass\n",
    "    return frequent_patters\n",
    "    "
   ]
  },
  {
   "cell_type": "code",
   "execution_count": 13,
   "metadata": {},
   "outputs": [],
   "source": [
    "def computing_frequencies(text, k):\n",
    "    frequencyarray = []\n",
    "    for i in range(0,(4**k)-1):\n",
    "        frequencyarray.insert(i, 0)\n",
    "    for i in range(0,len(text)-k):\n",
    "        pattern = text[i:i+k]\n",
    "        j = pattern_to_number(pattern)\n",
    "        frequencyarray[j] = frequencyarray[j]+1\n",
    "    return frequencyarray"
   ]
  },
  {
   "cell_type": "markdown",
   "metadata": {},
   "source": [
    "## testrun fastfrequentwords"
   ]
  },
  {
   "cell_type": "markdown",
   "metadata": {},
   "source": [
    "# Implementation of findingfrequentwordsbysorting"
   ]
  },
  {
   "cell_type": "code",
   "execution_count": 100,
   "metadata": {},
   "outputs": [],
   "source": [
    "def findingfrequentwordsbysorting(text,k):\n",
    "    frequent_patterns = {}\n",
    "    index_list = []\n",
    "    count = []\n",
    "    for i in range(0,len(text)-k+1):\n",
    "        pattern = text[i:i+k]\n",
    "        index_list.append(pattern_to_number(pattern))\n",
    "        count.insert(i,1)\n",
    "        index_list.sort()\n",
    "    for i in range(1,len(text)-k):\n",
    "        if index_list[i] == index_list[i-1]:\n",
    "            count[i]=count[i-1]+1\n",
    "    max_count = max(count)\n",
    "    for i in range(1, len(text)-k):\n",
    "        if count[i] == max_count:\n",
    "            pattern = number_to_pattern(index_list[i],k)\n",
    "            frequent_patterns[pattern]=max_count\n",
    "    return frequent_patterns"
   ]
  },
  {
   "cell_type": "code",
   "execution_count": 102,
   "metadata": {},
   "outputs": [
    {
     "data": {
      "text/plain": [
       "{'gt': 2, 'tc': 2}"
      ]
     },
     "execution_count": 102,
     "metadata": {},
     "output_type": "execute_result"
    }
   ],
   "source": [
    "text=\"atgtcgaaggtcct\"\n",
    "foo = findingfrequentwordsbysorting(text,2)\n",
    "foo"
   ]
  }
 ],
 "metadata": {
  "kernelspec": {
   "display_name": "Python 3",
   "language": "python",
   "name": "python3"
  },
  "language_info": {
   "codemirror_mode": {
    "name": "ipython",
    "version": 3
   },
   "file_extension": ".py",
   "mimetype": "text/x-python",
   "name": "python",
   "nbconvert_exporter": "python",
   "pygments_lexer": "ipython3",
   "version": "3.6.2"
  }
 },
 "nbformat": 4,
 "nbformat_minor": 2
}
